{
 "cells": [
  {
   "cell_type": "markdown",
   "id": "d9cc8745-4dd5-4b96-ba1f-7e5975ccee53",
   "metadata": {},
   "source": [
    "Write a Python program to get a list, sorted in increasing order by the last element in each tuple from a given list of non-empty tuples\n",
    "\n"
   ]
  },
  {
   "cell_type": "code",
   "execution_count": 1,
   "id": "2a80a58d-e952-49d1-81a0-e33dccc36201",
   "metadata": {},
   "outputs": [
    {
     "name": "stdout",
     "output_type": "stream",
     "text": [
      "[(2, 1), (1, 2), (2, 3), (4, 4), (2, 5)]\n"
     ]
    }
   ],
   "source": [
    "def sort_list(l):\n",
    "  # define a key function that returns the last element of a tuple\n",
    "  def last_elem(t):\n",
    "    return t[-1]\n",
    "  \n",
    "  # sort the list using the key function\n",
    "  return sorted(l, key=last_elem)\n",
    "\n",
    "# test the function\n",
    "sample_list = [(2, 5), (1, 2), (4, 4), (2, 3), (2, 1)]\n",
    "print(sort_list(sample_list))  # should print [(2, 1), (1, 2), (2, 3), (4, 4), (2, 5)]"
   ]
  }
 ],
 "metadata": {
  "kernelspec": {
   "display_name": "Python 3 (ipykernel)",
   "language": "python",
   "name": "python3"
  },
  "language_info": {
   "codemirror_mode": {
    "name": "ipython",
    "version": 3
   },
   "file_extension": ".py",
   "mimetype": "text/x-python",
   "name": "python",
   "nbconvert_exporter": "python",
   "pygments_lexer": "ipython3",
   "version": "3.11.1"
  }
 },
 "nbformat": 4,
 "nbformat_minor": 5
}
